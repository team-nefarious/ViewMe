{
 "cells": [
  {
   "cell_type": "markdown",
   "metadata": {
    "_cell_guid": "9238b0cc-c910-469b-9146-a99542f4ae51",
    "_uuid": "6ff3251e34ac9a83d0ea7453e7aafea26baebed4"
   },
   "source": [
    "![title](logo.png)\n",
    "> ## ViewMe\n",
    ">     It is a powerful product that will integrate with bank servers and allows users to analyze their expenditure using their bank records.\n",
    "* ID - Identification\n",
    "* Income - Income in \\$10,0000\n",
    "* Limit - Credit limit\n",
    "* Rating - Credit rating\n",
    "* Age - Age in years\n",
    "* Education - number of years of education\n",
    "* Gender - Male or Female\n",
    "* Student - Yes or No\n",
    "* Married - Yes or No\n",
    "* Ethnicity - African American, Asian or Caucasian\n",
    "* Balance - Average credit card balance in $\n",
    "\n",
    "Dataset link to download - https://inclass.kaggle.com/ishaanv/ISLR-Auto <br>\n",
    "Demo Dataset  info  - http://www-bcf.usc.edu/~gareth/ISL/data.html\n"
   ]
  },
  {
   "cell_type": "markdown",
   "metadata": {
    "_cell_guid": "0e390a4f-3599-4ea3-9019-1fc8cfa09e27",
    "_uuid": "fff2f3853c2daf2218192dbe9d96408ea1f4f71a"
   },
   "source": [
    "> ## Assumptions\n",
    "\n",
    "The following assumptions about the dataset have been made:\n",
    "* Credit card Balance refers to the average monthly balance across all of the cards owned by a cardholder. This assumption was made as a result of the Cards variable which refers to the number of credit cards owned by a person and has only one associated Balance figure.\n",
    "* The Balance is calculated as the highest amount incurred on a credit card in a given month. For example if a cardholder spends \\$400, \\$500, and \\$600 over the course of three months, and each month pays the balance in full, the average balance will be recorded as \\$500 (i.e. any preliminary balances before the maximum are not taken into account, neither is the final balance of zero)."
   ]
  },
  {
   "cell_type": "code",
   "execution_count": null,
   "metadata": {
    "_cell_guid": "3c170739-fa9c-f03b-8d5f-6d19acd40f54",
    "_uuid": "027ee68a24219a183bbfe15850259cf3b061572c",
    "scrolled": true
   },
   "outputs": [],
   "source": [
    "import numpy as np\n",
    "import pandas as pd \n",
    "import seaborn as sns\n",
    "import matplotlib.pyplot as plt\n",
    "import statsmodels.api as sm\n",
    "import statsmodels.formula.api as smf\n",
    "%matplotlib inline\n",
    "\n",
    "col_list = ['#cc615c', '#6965a7', '#f1bdbf']\n",
    "sns.set_palette(col_list)\n"
   ]
  },
  {
   "cell_type": "code",
   "execution_count": null,
   "metadata": {
    "_cell_guid": "aae3e270-c228-240c-7941-4104d2b5b0b0",
    "_uuid": "6133db5b215fafa5a8da6bfdb35120505f69c68c"
   },
   "outputs": [],
   "source": [
    "credit_df = pd.read_csv(\"../input/Credit.csv\", index_col=0)"
   ]
  },
  {
   "cell_type": "markdown",
   "metadata": {
    "_cell_guid": "f700c922-666a-4dde-87ed-c44f2dd29f4d",
    "_uuid": "41a1928328e8979733d7d62a2822b28a38ad4727"
   },
   "source": [
    "The categorical variables should be converted into the appropriate data type. "
   ]
  },
  {
   "cell_type": "code",
   "execution_count": null,
   "metadata": {
    "_cell_guid": "7f8ad995-84cb-464f-8493-7804bcec37f0",
    "_uuid": "2883aeda1c6456169617e3a029485e8c5d607dc3"
   },
   "outputs": [],
   "source": [
    "credit_df.Gender = credit_df.Gender.astype('category')\n",
    "credit_df.Student = credit_df.Student.astype('category')\n",
    "credit_df.Married = credit_df.Married.astype('category')\n",
    "credit_df.Ethnicity = credit_df.Ethnicity.astype('category')"
   ]
  },
  {
   "cell_type": "markdown",
   "metadata": {
    "_cell_guid": "76fee392-ed16-4cc8-ba32-78b2effe8c99",
    "_uuid": "ce020de10c112782b0cc7306b0ad87ef8eb49abe"
   },
   "source": [
    "> # Exploratory Data Analysis"
   ]
  },
  {
   "cell_type": "code",
   "execution_count": null,
   "metadata": {
    "_cell_guid": "2a308548-4d29-7192-cec0-2e229aeb317e",
    "_uuid": "4e51cc26c3882f99125e071022b7825be4757072",
    "scrolled": true
   },
   "outputs": [],
   "source": [
    "credit_df.describe()"
   ]
  },
  {
   "cell_type": "code",
   "execution_count": null,
   "metadata": {
    "_cell_guid": "8d00a318-230b-aa86-0c22-ac0e0e368ed6",
    "_uuid": "bf92cecd8193916af0555e3b471a627c38acfa07"
   },
   "outputs": [],
   "source": [
    "credit_df.head()"
   ]
  },
  {
   "cell_type": "code",
   "execution_count": null,
   "metadata": {
    "_cell_guid": "660de2bd-4889-42fd-bb8a-574ca8b1cdcf",
    "_uuid": "aef545f2fc1c1c824edb405cbcfe56e61e1d278b"
   },
   "outputs": [],
   "source": [
    "credit_df.describe(include=['category'])"
   ]
  },
  {
   "cell_type": "markdown",
   "metadata": {
    "_cell_guid": "f8194fee-2bdd-4ac2-aaea-fb4994aaeec2",
    "_uuid": "6480e8e9a1be4d486203ba1be06988542ad24927"
   },
   "source": [
    "> ## Various Model are implemented\n",
    "> ## The best model is selected later on"
   ]
  },
  {
   "cell_type": "markdown",
   "metadata": {
    "_cell_guid": "fdb0214d-3e00-2411-d483-f42af97e4c32",
    "_uuid": "9d8a8a3796f678e307500294fd38bfa6e4c1b5a5"
   },
   "source": [
    "One of the first steps of this Exploratory Data Analysis is to examine the target of inference ( Balance ) in isolation."
   ]
  },
  {
   "cell_type": "code",
   "execution_count": null,
   "metadata": {
    "_cell_guid": "d5bd74ae-648c-802d-4052-db84ab81b2ce",
    "_uuid": "ff1848dda9201957ca87fbd41c9eea2d64917342"
   },
   "outputs": [],
   "source": [
    "sns.distplot(credit_df.Balance)"
   ]
  },
  {
   "cell_type": "markdown",
   "metadata": {
    "_cell_guid": "7894e779-921e-accd-52e5-c40e033277a3",
    "_uuid": "72f4291ce49c25dac3cf3915ae1536b756b626e5"
   },
   "source": [
    "It can be noticed that a large portion of the sample consists of Zero Balance Cards. Therefore there are 2 potential questions that can be answered:\n",
    "* Does an individual have a positive average credit card Balance? \n",
    "* If yes, what is the magnitude of the average Balance?\n",
    "\n",
    "This is an important distinction because, if the average credit card Balance for a given individual is zero, we conclude that the person does not make use of that credit card. As a credit card company, we may be interested in knowing the average balance across our frequent users (for instance, to identify those at risk of default), and the zero Balances may skew our results. \n",
    "\n",
    "We can create an additional data frame which only contains the observations with a positive Balance. "
   ]
  },
  {
   "cell_type": "code",
   "execution_count": null,
   "metadata": {
    "_cell_guid": "87bf4401-d7b7-43ac-8a63-b3b716d8ef24",
    "_uuid": "bdacd45a1d58d6b85821d252d2b70a5bcbad9242"
   },
   "outputs": [],
   "source": [
    "active_credit_df = credit_df.loc[credit_df.Balance>0,].copy()\n",
    "active_credit_df.Balance.describe() "
   ]
  },
  {
   "cell_type": "code",
   "execution_count": null,
   "metadata": {
    "_cell_guid": "c3d08e9a-1e92-4081-b26d-db7b5fca3758",
    "_uuid": "7be6f4c1cde729426962e8852fa432e724d668fe"
   },
   "outputs": [],
   "source": [
    "sns.distplot(active_credit_df.Balance)"
   ]
  },
  {
   "cell_type": "markdown",
   "metadata": {
    "_cell_guid": "ebfc4389-b18a-4e15-a5a1-eb134d21dbb9",
    "_uuid": "dc0e28a60b4ea5018863917b9a4a94e66f664ee4"
   },
   "source": [
    "Without the zero Balances, the curve resembles a normal distribution. The analysis will make use of both data frames to fit models and explore the differences in those models.\n",
    "\n",
    "In addition, a new variable can be added to the original data frame which specifies whether an individual is a regular user of their credit card (i.e. whether they have a positive Balance)."
   ]
  },
  {
   "cell_type": "code",
   "execution_count": null,
   "metadata": {
    "_cell_guid": "0747f306-5417-4708-bff0-c35e51493330",
    "_uuid": "eacb54676e4f3df171e986f9dcb45ec6991f2b55"
   },
   "outputs": [],
   "source": [
    "credit_df['Active'] = np.where(credit_df['Balance']>0, 'Yes', 'No')  \n",
    "credit_df.Active.describe()"
   ]
  },
  {
   "cell_type": "markdown",
   "metadata": {
    "_cell_guid": "1c608470-e2d3-47c0-afa4-df71894feeac",
    "_uuid": "7395e7e5a8dcab7312c40f35ba28e83d0c599572"
   },
   "source": [
    "> ## Pairwise correlations"
   ]
  },
  {
   "cell_type": "markdown",
   "metadata": {
    "_cell_guid": "b2a76e25-d44b-47a2-81dc-961fb4072ffa",
    "_uuid": "6a6eac673bb10e709391731b79685941de0fea36"
   },
   "source": [
    "A correlation matrix will be created in order to visualize the relationships among the numerical predictors and the target of inference. "
   ]
  },
  {
   "cell_type": "code",
   "execution_count": null,
   "metadata": {
    "_cell_guid": "1ba5c4b1-8cdd-457e-b026-1038f4cafc00",
    "_uuid": "371b5828f036f6e300a741c63fe057cf925e932e"
   },
   "outputs": [],
   "source": [
    "numeric_credit_df = credit_df.select_dtypes(include=['int64', 'float64'])\n",
    "plt.figure(figsize=(8,8))\n",
    "plt.matshow(credit_df.corr(), cmap=plt.cm.Reds, fignum=1)\n",
    "plt.colorbar()\n",
    "tick_marks = [i for i in range(len(numeric_credit_df.columns))]\n",
    "plt.xticks(tick_marks, numeric_credit_df.columns)\n",
    "plt.yticks(tick_marks, numeric_credit_df.columns)"
   ]
  },
  {
   "cell_type": "markdown",
   "metadata": {
    "_cell_guid": "72c2c0f4-a5fc-449f-a036-9ac7e5116d5c",
    "_uuid": "dd390dff59c059fda421af2831b114357c0a59c7"
   },
   "source": [
    "Based on the correlation matrix, Balance appears correlated with Limit, Rating, and moderately correlated with Income. In addition, Limit and Rating are highly correlated with each other, and they both have a relationship with Income. \n",
    "\n",
    "However, this matrix does not confirm whether the correlation coefficients are statistically significant, hence further investigation is necessary."
   ]
  },
  {
   "cell_type": "code",
   "execution_count": null,
   "metadata": {
    "_cell_guid": "1513bd55-8a85-4f49-a2e1-ceab8b939658",
    "_kg_hide-input": true,
    "_uuid": "1245aed80ef119e47b9499a2e46b6a0fc22f4771"
   },
   "outputs": [],
   "source": [
    "from scipy.stats import pearsonr\n",
    "r1, p1 = pearsonr(credit_df.Balance, credit_df.Limit)\n",
    "msg = \"Correlation coefficient Balance-Limit: {}\\n p-value: {}\\n\"\n",
    "print(msg.format(r1, p1))\n",
    "r2, p2 = pearsonr(credit_df.Balance, credit_df.Rating)\n",
    "msg = \"Correlation coefficient Balance-Rating: {}\\n p-value: {}\\n\"\n",
    "print(msg.format(r2, p2))\n",
    "r3, p3 = pearsonr(credit_df.Balance, credit_df.Income)\n",
    "msg = \"Correlation coefficient Balance-Income: {}\\n p-value: {}\\n\"\n",
    "print(msg.format(r3, p3))\n",
    "r4, p4 = pearsonr(credit_df.Limit, credit_df.Rating)\n",
    "msg = \"Correlation coefficient Limit-Rating: {}\\n p-value: {}\\n\"\n",
    "print(msg.format(r4, p4))\n",
    "r5, p5 = pearsonr(credit_df.Limit, credit_df.Income)\n",
    "msg = \"Correlation coefficient Limit-Income: {}\\n p-value: {}\\n\"\n",
    "print(msg.format(r5, p5))\n",
    "r6, p6 = pearsonr(credit_df.Rating, credit_df.Income)\n",
    "msg = \"Correlation coefficient Rating-Income: {}\\n p-value: {}\\n\"\n",
    "print(msg.format(r6, p6))\n"
   ]
  },
  {
   "cell_type": "markdown",
   "metadata": {
    "_cell_guid": "52c905a2-b271-4464-8465-94fa85286a4c",
    "_uuid": "8ec7a2f4c92dfbc1027fe1c46b2b83a306c109da"
   },
   "source": [
    "All the relationships are significant. Additionally Limit and Rating have a remarkably high correlation coefficient."
   ]
  },
  {
   "cell_type": "code",
   "execution_count": null,
   "metadata": {
    "_cell_guid": "b67cd0fd-e248-4d91-a21b-40b56e766e47",
    "_kg_hide-input": false,
    "_kg_hide-output": false,
    "_uuid": "28356ba833be385d2d6f4d32ec90b91893f536e7"
   },
   "outputs": [],
   "source": [
    "sns.regplot(x='Limit',\n",
    "           y='Rating',\n",
    "           data=credit_df,\n",
    "           scatter_kws={'alpha':0.2},\n",
    "           line_kws={'color':'black'})"
   ]
  },
  {
   "cell_type": "markdown",
   "metadata": {
    "_cell_guid": "937998ab-61df-4e53-b920-5d70f75c76f4",
    "_uuid": "22cd52ed2dac6d4cf4fd8adcd04c5c5d3b32be26"
   },
   "source": [
    "Limit and Rating are highly correlated, introducing multi-colinearity in the model. More specifically, Rating as an antecedent of Limit is more meaningful for the model because it also drives Limit levels for card owners. Therefore, if one of the two should be removed to fix collinearity issues, Limit has a lower priority for the model. Finally, it is pertinent to note that both Limit and Rating are complex measures, subsuming a range of other factors, among which several already present in the model, such as Education or Income. \n",
    "\n",
    "For clarity, the analysis will focus less on Rating and Limit, and more on those measures representing more direct indicators of credit profiling. \n",
    "\n",
    "We will now examine the categorical variables and their relationship to balance. "
   ]
  },
  {
   "cell_type": "code",
   "execution_count": null,
   "metadata": {
    "_cell_guid": "e0d512ae-98e3-424a-9f3b-256c7825194e",
    "_uuid": "ba6c9f29b486a095a36c8d4d8194691df5793409"
   },
   "outputs": [],
   "source": [
    "f, axes = plt.subplots(2, 2, figsize=(15, 6))\n",
    "f.subplots_adjust(hspace=.3, wspace=.25)\n",
    "credit_df.groupby('Gender').Balance.plot(kind='kde', ax=axes[0][0], legend=True, title='Balance by Gender')\n",
    "credit_df.groupby('Student').Balance.plot(kind='kde', ax=axes[0][1], legend=True, title='Balance by Student')\n",
    "credit_df.groupby('Married').Balance.plot(kind='kde', ax=axes[1][0], legend=True, title='Balance by Married')\n",
    "credit_df.groupby('Ethnicity').Balance.plot(kind='kde', ax=axes[1][1], legend=True, title='Balance by Ethnicity')"
   ]
  },
  {
   "cell_type": "markdown",
   "metadata": {
    "_cell_guid": "8a0d9fad-2ded-4922-b65b-324953a51953",
    "_uuid": "81b5904f3ab876f3c6539265a67943c7a979c59e"
   },
   "source": [
    "Student appears to be the only predictor to influence the distribution of Balance. To verify, the same relationships can be analyzed on the active-only sample of the population. "
   ]
  },
  {
   "cell_type": "code",
   "execution_count": null,
   "metadata": {
    "_cell_guid": "158765cc-9f15-47fc-890e-410f4ee5b402",
    "_uuid": "f2a84df91908c317eb7d40a38ac27d677927e13c"
   },
   "outputs": [],
   "source": [
    "f, axes = plt.subplots(2, 2, figsize=(15, 6))\n",
    "f.subplots_adjust(hspace=.3, wspace=.25)\n",
    "active_credit_df.groupby('Gender').Balance.plot(kind='kde', ax=axes[0][0], legend=True, title='Balance by Gender')\n",
    "active_credit_df.groupby('Student').Balance.plot(kind='kde', ax=axes[0][1], legend=True, title='Balance by Student')\n",
    "active_credit_df.groupby('Married').Balance.plot(kind='kde', ax=axes[1][0], legend=True, title='Balance by Married')\n",
    "active_credit_df.groupby('Ethnicity').Balance.plot(kind='kde', ax=axes[1][1], legend=True, title='Balance by Ethnicity')"
   ]
  },
  {
   "cell_type": "markdown",
   "metadata": {
    "_cell_guid": "9431053b-c88c-4bdd-9204-a419832b30d3",
    "_uuid": "bad082900e0d7bd4462e1aac7de3ada8dce99c0c"
   },
   "source": [
    "Although the variables Gender, Married, and Ethnicity do not appear associated with Balance when observed in isolation, their interaction with one another might make them valuable. This will be investigated at a later point in the analysis. \n",
    "\n",
    "The Student variable should be closely examined at this point."
   ]
  },
  {
   "cell_type": "code",
   "execution_count": null,
   "metadata": {
    "_cell_guid": "9f3301d1-0cfa-4c1f-bff5-2ddf254fee78",
    "_kg_hide-input": false,
    "_kg_hide-output": false,
    "_uuid": "d5cd095a5d5c3f8324b552098d8c36713be10f20"
   },
   "outputs": [],
   "source": [
    "sns.boxplot(x='Student', y='Balance', data = credit_df)"
   ]
  },
  {
   "cell_type": "markdown",
   "metadata": {
    "_cell_guid": "3613eee5-728b-45d1-b282-4edc475b7721",
    "_uuid": "36c3608380fb43b05818acb36f50fb3f9d18f53f"
   },
   "source": [
    "Students display on average higher credit card Balances. We infer that Students have a higher need for financing due to student loans and have generally lower personal income (which will be seen later in the analysis). Moreover, we could presume that students tend to have less control over their finances and their financial flexibility may be lower. "
   ]
  },
  {
   "cell_type": "markdown",
   "metadata": {
    "_cell_guid": "d416551b-89d5-45a9-81f1-5e24fd051313",
    "_uuid": "a39f3ad86feb8e2f7e126b87bee4545d18c31b99"
   },
   "source": [
    "> # Multivariable Regression Modelling"
   ]
  },
  {
   "cell_type": "markdown",
   "metadata": {
    "_cell_guid": "396ed45f-e555-4803-e192-6fa329f18f70",
    "_uuid": "bb461dab5f7fbd22046e994604555c37ba517367"
   },
   "source": [
    "After visually examining the predictors and their relationship with Balance, regression models can be fit using those predictors. feature selection will be used to determine which combination of variables best predicts credit card Balance. \n",
    "\n",
    "Given the choice of 9 predictors, the initial model could include all of them. Yet, as previously noted, due to potential collinearity issues, Limit will be eliminated. \n",
    "\n",
    "The Ordinary Least Square algorithm is used to create the linear regression model."
   ]
  },
  {
   "cell_type": "code",
   "execution_count": null,
   "metadata": {
    "_cell_guid": "dceb5d01-1b25-4b4e-b52c-a6f1ce364b68",
    "_uuid": "f97046bb401f58a9e1f1aed2f494f02d58f827ad"
   },
   "outputs": [],
   "source": [
    "mod0 = smf.ols('Balance ~ Income + Rating + Cards + Age + Education + Gender + Student + Married + Ethnicity', data = credit_df).fit()\n",
    "mod0.summary()"
   ]
  },
  {
   "cell_type": "markdown",
   "metadata": {
    "_cell_guid": "c0da3047-d1c7-4c50-b1a9-bfade792fd8a",
    "_uuid": "e7168242ea5c0ba78ab907ea9b043db6ccc258d7"
   },
   "source": [
    "Income is negatively related to balance which could be interpreted in the sense that the higher the Income, the lower the need to access loans. \n",
    "\n",
    "Student has an expected positive impact. Similarly, these results are consistent with Age. This variable reveals that with Age, the credit card Balance decreases which corroborate the notion that people become more in charge of their finances over time. \n",
    "\n",
    "Surprisingly, the years of Education do not have a significant impact on the credit card Balance. Other variables with no impact are Cards, Ethnicity, Gender and Married. \n",
    "\n",
    "We fit the same model on our reduced dataset of only active customers."
   ]
  },
  {
   "cell_type": "code",
   "execution_count": null,
   "metadata": {
    "_cell_guid": "9bb1b2f8-8fdf-f191-4394-3aa41781c6da",
    "_uuid": "ac2801037010ecce93a517545131e589321ec704"
   },
   "outputs": [],
   "source": [
    "active_mod0 = smf.ols('Balance ~ Income + Rating + Cards + Age + Education + Gender + Student + Married + Ethnicity', data = active_credit_df).fit()\n",
    "active_mod0.summary()"
   ]
  },
  {
   "cell_type": "markdown",
   "metadata": {
    "_cell_guid": "ae177ce9-dc91-4cba-95ff-2f299cbb3a0c",
    "_uuid": "a94717518f06e6f422df17b9f09e0e47e625dafd"
   },
   "source": [
    "The model has a superior fit for the Active customers dataset. This points to the hypothesis that perhaps the non-active customers are driven by some reason other than the ones present in our variables. Since they rarely make use of their credit card, it is difficult to draw conclusions. Perhaps they, in fact, have credit card debt, yet we do not have the relevant data, potentially their credit card is provided by a different company. An alternative explanation could be that the card owners maintain a zero-balance card in order to decrease their credit utilization and boost their credit rating, assuming they also own a positive balance credit card elsewhere. \n",
    "\n",
    "We could exclude the variables which yield a high p-value from the model. Nevertheless, these variables could have an interaction with other variables and might still be significant.\n",
    "\n",
    "We continue by fitting a model with only the variables that proved significant, yet as part of the analysis, we will return to examining the other variables. "
   ]
  },
  {
   "cell_type": "code",
   "execution_count": null,
   "metadata": {
    "_cell_guid": "faf6b35f-5930-4b2c-a03b-1c89094d50dc",
    "_uuid": "fe8bf4c1deb780e58aa0e7a228c6ddffb7a0f772"
   },
   "outputs": [],
   "source": [
    "mod1 = smf.ols('Balance ~ Income + Rating + Age + Student', data = credit_df).fit()\n",
    "mod1.summary()"
   ]
  },
  {
   "cell_type": "markdown",
   "metadata": {
    "_cell_guid": "0b00d318-619c-49a4-a0e1-540626667d3a",
    "_uuid": "d415ea42ac39e36ccaa7097c6612b0f9b6cba7c3"
   },
   "source": [
    "Now all the variables are significant, but the R-squared has, in fact, decreased. \n",
    "\n",
    "The potential relationships among these 4 variables should be analyzed."
   ]
  },
  {
   "cell_type": "code",
   "execution_count": null,
   "metadata": {
    "_cell_guid": "b9136e08-a29e-4434-9984-da20dca6bbab",
    "_uuid": "1fa104e77c1f8852a8e52ad0e9ff0a62d71a26e4"
   },
   "outputs": [],
   "source": [
    "f, axes = plt.subplots(3, 2, figsize=(12, 10))\n",
    "f.subplots_adjust(hspace=.5, wspace=.25)\n",
    "credit_df.groupby('Student').Income.plot(kind='kde', ax=axes[0][0], title='Income by Student')\n",
    "credit_df.groupby('Student').Rating.plot(kind='kde', ax=axes[0][1], title='Rating by Student')\n",
    "credit_df.plot(kind='scatter', x='Age' , y='Income' , ax=axes[1][0], title='Income and Age')\n",
    "credit_df.plot(kind='scatter', x='Age' , y='Rating' , ax=axes[1][1], color='orange', title='Rating and Age')\n",
    "credit_df.plot(kind='scatter', x='Rating' , y='Income' , ax=axes[2][0], color='orange', title='Income and Rating')\n",
    "credit_df.groupby('Student').Age.plot(kind='kde', ax=axes[2][1], legend=True, title='Age by Student')"
   ]
  },
  {
   "cell_type": "markdown",
   "metadata": {
    "_cell_guid": "ad17ab25-8a19-4509-84b8-5d0bbd651040",
    "_uuid": "69ada5ab5dd26b79404b2c10a25269b62b612c7b"
   },
   "source": [
    "As expected, we notice a positive relationship between Income and Rating. This could be explained by the fact that credit Rating is a score assigned to individuals based on their creditworthiness, including the level of personal Income. \n",
    "\n",
    "Furthermore, as we predicted earlier, Students display lower values of Income compared to non-Students. \n",
    "\n",
    "Surprisingly, in this dataset, the Income does not Increase with Age, and the Age of Students compared to non-Students does not differ significantly. This observation could lead us to be concerned about the data quality or to seek further attributes of this population to conduct additional investigation. Nonetheless, given the simulated nature of this dataset additional inquiries are not feasible, yet it is worth noting that on a different population, we expect a stronger relationship among Age, Student, and Income. \n",
    "\n",
    "We will now closer examine Balance and Income for Students and non-Students. Since we are interested in how Balance behaves, we will only take into account non-zero Balances."
   ]
  },
  {
   "cell_type": "code",
   "execution_count": null,
   "metadata": {
    "_cell_guid": "7e49f30f-e88d-4353-990a-aea90ad65617",
    "_uuid": "1f994e18a8f8d194b58e558745b4524d33501dec"
   },
   "outputs": [],
   "source": [
    "sns.lmplot(x='Income',\n",
    "          y='Balance',\n",
    "          data=active_credit_df,\n",
    "          line_kws={'color':'black'},\n",
    "          lowess=True,\n",
    "          col='Student')"
   ]
  },
  {
   "cell_type": "markdown",
   "metadata": {
    "_cell_guid": "bbe16ff0-c1d2-43e3-8b75-120a33f4a33c",
    "_uuid": "83ae0f2e89eaa28a5057088eaf13d6fb4720593e"
   },
   "source": [
    "We observe a positive relationship between Balance and Income for non-Students, however, in the case of Students, changes in Income do not impact their average credit card Balance. A further step would be to fit a regression model on non-Students only and observe Balance. For Students, the line appears to behave differently in 3 sections, so perhaps a Spline model might be appropriate. However, the sample size of Students is not large enough (no. of observations = 40) for the results to add significant value to the overall analysis.\n",
    "\n",
    "An interesting observation is that the regression analysis showed that Income was negatively related to Balance, yet this figure appears to show a positive relationship. We should verify whether the relationship is in fact non-linear."
   ]
  },
  {
   "cell_type": "markdown",
   "metadata": {
    "_cell_guid": "56d752bf-2d84-40ad-98a6-90d9b8e77753",
    "_uuid": "937f7fd37daeec75562ae5a3bac5bbbffe8e1fab"
   },
   "source": [
    "> ## Non-linear Relationships"
   ]
  },
  {
   "cell_type": "code",
   "execution_count": null,
   "metadata": {
    "_cell_guid": "083ffa7b-8f83-4bb8-a84a-f2cf9be0e762",
    "_uuid": "50c0dd0bddfd97cf877269d2eb50455b8e839d14"
   },
   "outputs": [],
   "source": [
    "mod2 = smf.ols('Balance ~ Income + I(Income**2) + Age + Student + Rating', data = credit_df).fit()\n",
    "mod2.summary()"
   ]
  },
  {
   "cell_type": "markdown",
   "metadata": {
    "_cell_guid": "87c30bd0-5a06-424a-81d6-f7fe1c6f1c07",
    "_uuid": "dab35387c15e0e4fe589782b2684fcdee19e9a99"
   },
   "source": [
    "The model has improved and the non-linear term is marginally significant. Additionally, while Income has a negative impact on Balance, Income squared has a slightly positive impact. We expect Balance to have a negative slope initially, and a positive one at higher levels of Income. We can plot this relationship."
   ]
  },
  {
   "cell_type": "code",
   "execution_count": null,
   "metadata": {
    "_cell_guid": "3ec7a443-1df7-4ac5-be9d-d4e307e118fa",
    "_uuid": "623da6ebe2a52ffece4e3d665e4932dcd2f01f40"
   },
   "outputs": [],
   "source": [
    "sns.regplot('Balance', 'Income',\n",
    "           data = active_credit_df,\n",
    "           ci=None,\n",
    "           order=2,\n",
    "           line_kws={'color':'black'})"
   ]
  },
  {
   "cell_type": "markdown",
   "metadata": {
    "_cell_guid": "803d418f-e08d-46b6-b754-90a44ef23985",
    "_uuid": "1ea7835a4b903bc0e3c90e86c6f8fde7e01b1d8a"
   },
   "source": [
    "As anticipated, at lower levels of Income, increases in personal Income cause a decrease in credit card Balance, which can be interpreted as individuals requiring less financing as they make use of personal finances instead of credit debt. \n",
    "\n",
    "However, at high levels of income, Balance increases, meaning that those individuals are in higher need of loans, potentially due to increased investment activities and a greater risk tolerance. "
   ]
  },
  {
   "cell_type": "markdown",
   "metadata": {
    "_cell_guid": "204e561c-4fcb-4141-af01-217fcee4bac8",
    "_uuid": "db8471c1842d16cde05a549dd6bbf4f7e2ef2652"
   },
   "source": [
    "> ## Interactions Between Predictors\n",
    "\n",
    "An interaction term could be considered between Income and Rating. This stems from the assumption that there could be a synergy between Income and Rating; that individuals with increased levels of Income and high credit Rating will have a higher level of financial control and stability."
   ]
  },
  {
   "cell_type": "code",
   "execution_count": null,
   "metadata": {
    "_cell_guid": "aa5320c8-9ddc-7230-3af0-8f3b6c139b14",
    "_uuid": "2c6e27b4874ef227a76258417b624a216136d597"
   },
   "outputs": [],
   "source": [
    "mod3 = smf.ols('Balance ~ Income + I(Income**2) + Age + Student + Income*Rating', data = credit_df).fit()\n",
    "mod3.summary()"
   ]
  },
  {
   "cell_type": "markdown",
   "metadata": {
    "_cell_guid": "7c1f83bc-cb6c-4bcf-869a-f7bb5e2e3694",
    "_uuid": "46109809ee205fe6ac8adecdcb3fe840d112f7dd",
    "collapsed": true
   },
   "source": [
    "The Adjusted R-squared increased and the interaction term is statistically significant.\n",
    "\n",
    "We could examine how the variables that were originally removed interact with other variables, such as for example years spent in Education and personal Income. "
   ]
  },
  {
   "cell_type": "code",
   "execution_count": null,
   "metadata": {
    "_cell_guid": "0d3b111e-4d01-4428-b23f-e9bc016d36a9",
    "_uuid": "9aac632dde0101f64512cf28ee94b7675dd3ef27"
   },
   "outputs": [],
   "source": [
    "mod4 = smf.ols('Balance ~ Income + I(Income**2) + Rating + Age + Student + Education*Income', data = credit_df).fit()\n",
    "mod4.summary()"
   ]
  },
  {
   "cell_type": "markdown",
   "metadata": {
    "_cell_guid": "bb0aad58-f2a9-4661-b8c1-1f2d6cdc510f",
    "_uuid": "5841cf06c76815bf50ce1032a0f358b7a4a5ba24"
   },
   "source": [
    "Interestingly, while education did not appear significant at first, it does interact with Income, with a positive effect. Moreover, in this model Education itself seems marginally significant, meaning that the longer the time spent in education, the lower the Balance and the more financially cautious an individual is. Yet the effect reverses at high levels of Income and Education were highly educated high earning individuals appear to have higher needs for financing.  \n",
    "\n",
    "Let us consider further interactions, such as the one between Married and Age."
   ]
  },
  {
   "cell_type": "code",
   "execution_count": null,
   "metadata": {
    "_cell_guid": "773a5be6-187f-49de-880c-c98895fb7a5b",
    "_uuid": "7f953c55d87e4de032a52c41353736de24d105b4"
   },
   "outputs": [],
   "source": [
    "mod5 = smf.ols('Balance ~ Income + I(Income**2) + Rating + Age + Student + Married*Age', data = credit_df).fit()\n",
    "mod5.summary()"
   ]
  },
  {
   "cell_type": "markdown",
   "metadata": {
    "_cell_guid": "c4cecebb-831f-4df5-aa77-a3d4935f124c",
    "_uuid": "656391c347eccaf15d88b7dafeefe872e310b028"
   },
   "source": [
    "While neither Married nor Age by themselves are significant, the interaction term is. This reveals the fact that individuals with higher values for Age who are also Married have lower credit card Balances pointing to higher financial prudence or risk aversion. We can visualize this relationship."
   ]
  },
  {
   "cell_type": "code",
   "execution_count": null,
   "metadata": {
    "_cell_guid": "5f8959c4-8710-4034-a179-448050839947",
    "_uuid": "85deb354cdc0e0768d2151199a7f5ab76893ff12",
    "scrolled": true
   },
   "outputs": [],
   "source": [
    "sns.lmplot(x=\"Age\", \n",
    "           y=\"Balance\", \n",
    "           hue=\"Married\", \n",
    "           ci=None,\n",
    "           data=active_credit_df);"
   ]
  },
  {
   "cell_type": "markdown",
   "metadata": {
    "_cell_guid": "1d03814b-b435-4948-b66e-c09b07f5e3e7",
    "_uuid": "4510c3e20fbe897bb0de51132689fa80782b8fb8"
   },
   "source": [
    "We continue by examining Gender and number of credit Cards."
   ]
  },
  {
   "cell_type": "code",
   "execution_count": null,
   "metadata": {
    "_cell_guid": "717ebb26-ac53-4245-bc63-40f8019c8bed",
    "_uuid": "6710dcebb4ee2d20cf86f1e1fc816adcdf5adb3f"
   },
   "outputs": [],
   "source": [
    "mod6 = smf.ols('Balance ~ Income + I(Income**2) + Rating + Age + Student + Gender*Cards', data = credit_df).fit()\n",
    "mod6.summary()"
   ]
  },
  {
   "cell_type": "code",
   "execution_count": null,
   "metadata": {
    "_cell_guid": "4c37844b-d759-4ec8-85c9-b2a2327b5fa0",
    "_uuid": "a914efa60d4f320a3687e01328ecf6fe77f5e2ec"
   },
   "outputs": [],
   "source": [
    "sns.lmplot(x=\"Cards\", \n",
    "           y=\"Balance\", \n",
    "           hue=\"Gender\", \n",
    "           ci=None,\n",
    "           data = credit_df);"
   ]
  },
  {
   "cell_type": "markdown",
   "metadata": {
    "_cell_guid": "5a7e0ac8-9980-41cd-8738-c130ad03c79c",
    "_uuid": "67234650c204b8078083007b59d4710b6770ca88"
   },
   "source": [
    "The interaction between Gender and Cards is significant with a high coefficient, which demonstrates that Females who own more Cards have on average higher Balance. In this dataset we make the assumption that the Balance is recorded per person and not per credit card, implying that the balance recorded is calculated as an average across all the cards belonging to the same individual. While owning more credit Cards suggests in itself higher financing needs (perhaps the multiple cards offer different benefits), the relation with Gender is worth noting. We should also mention the fact that Gender in isolation has a negative impact on Balance, suggesting that females, in general, have less credit card debt, except when that individual also owns multiple Cards. "
   ]
  },
  {
   "cell_type": "markdown",
   "metadata": {
    "_cell_guid": "05a75ac2-038c-45be-bf5f-96218430ee43",
    "_uuid": "92cba304ac8ba7f215e431500ab1b6544033f6dc"
   },
   "source": [
    "> # Finding the Best Model"
   ]
  },
  {
   "cell_type": "markdown",
   "metadata": {
    "_cell_guid": "23fb3aa5-a102-41d1-ac4a-fba924f7a3af",
    "_uuid": "258cee2e2ec5868155ea43d4a6537117933022d4"
   },
   "source": [
    "After investigating polynomial relationships and interaction among terms, the last part of the analysis will focus on finding the best model and using it to predict credit card Balance for a generated sample of individuals. The purpose of this exercise is to employ the model and make inferences on the target variable, given a set of predictors. In other words, if an individual applies for a credit card, this model will predict an average credit card balance given the demographic factors (i.e. Income, Age, Rating). The information can be further utilized to estimate the risk of credit default or other customer behavior indicators of the given card owner. \n",
    "\n",
    "For this part of the analysis, we will focus separately on the active and non-active samples of the population. \n",
    "\n",
    "The best performing model so far on the entire sample included a polynomial relationship between Income and Balance and an interaction term between Income and Rating. "
   ]
  },
  {
   "cell_type": "code",
   "execution_count": null,
   "metadata": {
    "_cell_guid": "7c0d696b-5e44-4a0d-a71c-93d40737c086",
    "_uuid": "58162264f9daa0aab0d0ed603502ba815e53e62d"
   },
   "outputs": [],
   "source": [
    "active_mod7 = smf.ols('Balance ~ Income + I(Income**2) + Rating + Age + Student + Income*Rating', \n",
    "                      data = active_credit_df).fit()\n",
    "active_mod7.summary()"
   ]
  },
  {
   "cell_type": "markdown",
   "metadata": {
    "_cell_guid": "64af2935-05d4-46bb-bfb3-57e7f9afb3e2",
    "_uuid": "f22905d13eef61f086460dc7c823a8dcd48fc905"
   },
   "source": [
    "In the case of the active user population, neither non-linear relationships nor interaction among variables displayed low p-values. Nevertheless, other variables might explain the variance in Balance, such as Limit or Cards."
   ]
  },
  {
   "cell_type": "code",
   "execution_count": null,
   "metadata": {
    "_cell_guid": "fc0ced42-9e6c-ea14-c35f-fae96e92c8d4",
    "_uuid": "993f852ec83287759e425c459a4c50481443ef0e"
   },
   "outputs": [],
   "source": [
    "active_mod8 = smf.ols('Balance ~ Limit + Rating + Income + Age + Student + Cards', data = active_credit_df).fit()\n",
    "active_mod8.summary()"
   ]
  },
  {
   "cell_type": "markdown",
   "metadata": {
    "_cell_guid": "6b46db20-2648-f30c-e6bb-88036d72d8a9",
    "_uuid": "a01d97db8697fc4857cf542bf27730e956c2d5cb"
   },
   "source": [
    "This is the best model so far, with an R-squared of 99%. Adding the Limit term seems to have had a strong impact. This is a relationship which can be further analyzed. \n"
   ]
  },
  {
   "cell_type": "code",
   "execution_count": null,
   "metadata": {
    "_cell_guid": "7d8c4b7f-6d8c-4ec4-a4fe-5963386d5600",
    "_uuid": "fb89213851c0f26e6490d5cc6d8cc4d70cb57b8d"
   },
   "outputs": [],
   "source": [
    "sns.regplot(x='Limit',\n",
    "          y='Balance',\n",
    "          data=active_credit_df,\n",
    "          line_kws={'color':'black'},\n",
    "          lowess=True)"
   ]
  },
  {
   "cell_type": "markdown",
   "metadata": {
    "_cell_guid": "35658e57-ffca-431e-9d88-0de77d05549b",
    "_uuid": "59b663218529bcd4c9032552983c7bdae5003ba6"
   },
   "source": [
    "Credit Limit appears to be a strong predictor for credit card Balance. This is an expected finding since we assume that a card owner is not allowed to have a Balance that exceeds their Limit. Consequently, this relationship simply articulates that, the higher the credit Limit, the greater the credit card expenses are for a given individual, and hence the insightfulness of this relationship is debatable. "
   ]
  },
  {
   "cell_type": "code",
   "execution_count": null,
   "metadata": {
    "_cell_guid": "978bf9cd-4eeb-464e-9def-a87ba8363706",
    "_uuid": "f45b47a8d56faa40d3d325fc0d2193fdd627b0a5"
   },
   "outputs": [],
   "source": [
    "mod9 = smf.ols('Balance ~ Rating', data = credit_df).fit()\n",
    "mod9.summary()"
   ]
  },
  {
   "cell_type": "markdown",
   "metadata": {
    "_cell_guid": "9c05ba2a-97cd-4c93-96ce-0c86cf2a509f",
    "_uuid": "78bc36d316c2ae899c3369d1a6630726bc14baac"
   },
   "source": [
    "Similarly, credit Rating is a highly accurate predictor of Balance. This could suggest that individuals with high Rating are more willing to incur credit debt as they are confident that they will be able to pay off the balance. Nevertheless, Rating is a complex variable, related to other predictors such as Income. "
   ]
  },
  {
   "cell_type": "markdown",
   "metadata": {
    "_cell_guid": "9cfe6458-450b-4e8f-8ec9-4ecf17dabba3",
    "_uuid": "2c7cca0934f1a97ded81c6bc724575eed76f7d0a"
   },
   "source": [
    "For the entire dataset, the best model predicted 96% of the variance, while the model fit on the active-only population predicted 99%. The difference suggests that there are other factors influencing non-active cardholders which are not present in our data, or their spending behaviour is reflected on other lending platforms."
   ]
  },
  {
   "cell_type": "markdown",
   "metadata": {
    "_cell_guid": "da667c09-cee2-4eed-a16c-86869778856b",
    "_uuid": "3901c31ea9bea0901083bec345b7c172de6ad783"
   },
   "source": [
    "> ## Logistic Regression \n",
    "\n",
    "In order to determine the factors that influence whether a card owner is an active credit card user, a logistic regression can be fit. "
   ]
  },
  {
   "cell_type": "code",
   "execution_count": null,
   "metadata": {
    "_cell_guid": "70e9ce96-bb8a-3614-1411-72ca41f8c786",
    "_uuid": "5d7865a821b274601ceac87932f0f064ae27d8f8"
   },
   "outputs": [],
   "source": [
    "log_mod = smf.glm('Active ~ Limit + Rating + Income + Age + Cards + Education', \n",
    "                   data = credit_df,\n",
    "                   family=sm.families.Binomial()).fit()\n",
    "log_mod.summary()"
   ]
  },
  {
   "cell_type": "markdown",
   "metadata": {
    "_cell_guid": "2fc11fe8-4307-47ac-8ad3-ee492420c030",
    "_uuid": "367e1545bd3f5311c81b87cdea1cf494a5c4f7f9"
   },
   "source": [
    "The results unveil that Income is the only statistically significant predictor of whether the card owner is active or not, high earners having a greater probability of being active. This could be explained by low earners maintaining a zero-balance card in order to boost their creditworthiness. \n",
    "\n",
    "Naturally, a more in-depth investigation could follow and more complex models can be fit. However, the Active variable could be influenced by factors outside of our predictors. As previously stated, non-active users could be individuals who make use of other credit cards, yet we do not have access to such data. "
   ]
  },
  {
   "cell_type": "markdown",
   "metadata": {
    "_cell_guid": "cf98e470-32c6-4d03-a81b-4fdaf60e48ce",
    "_uuid": "0468a4875427b266b4e6550050c24a9d9d4cac1f"
   },
   "source": [
    "> ## Making Predictions"
   ]
  },
  {
   "cell_type": "markdown",
   "metadata": {
    "_cell_guid": "4bba75ac-aa73-084c-faba-df19ea27ec41",
    "_uuid": "3bd2a8404322e0cd2e386b7eed0894a21d29cbf4",
    "collapsed": true
   },
   "source": [
    "Lastly, the model can be utilized in order to predict the credit card Balance of future customers given their demographic information. For this purpose, a dataset has been generated."
   ]
  },
  {
   "cell_type": "code",
   "execution_count": null,
   "metadata": {
    "_cell_guid": "87f67829-0af9-d19f-4abc-ef7e55087105",
    "_uuid": "41774c35a24fe25b8a1a3647fbb1f400eafccce4"
   },
   "outputs": [],
   "source": [
    "df_new=pd.DataFrame({'Income':np.random.normal(45, 20, 40),\n",
    "                    'Rating':np.random.normal(355, 55, 40),\n",
    "                    'Limit':np.random.normal(4735, 200, 40),\n",
    "                    'Age':np.random.normal(56, 17, 40),\n",
    "                    'Cards':list(range(0,10))*4,\n",
    "                    'Student':['Yes']*20+['No']*20})\n",
    "df_new.Cards[df_new.Cards == 0] = 3\n",
    "df_new.Income[df_new.Income <= 0] = df_new.Income.mean()\n",
    "df_new.Rating[df_new.Rating <= 0] = df_new.Rating.mean()\n",
    "df_new.Limit[df_new.Limit <= 0] = df_new.Limit.mean()\n",
    "df_new['Balance']= active_mod8.predict(df_new)\n",
    "df_new.describe()"
   ]
  },
  {
   "cell_type": "code",
   "execution_count": null,
   "metadata": {
    "_cell_guid": "620cf302-6def-4c81-ad0b-c44a0ebb2641",
    "_uuid": "b4d283f31f0206c32f7b8695f03c23a15e584ecb"
   },
   "outputs": [],
   "source": [
    "mod8 = smf.ols('Balance ~ Income + I(Income**2) + Age + Student + Income*Rating + Limit + Cards', data = credit_df).fit()\n",
    "mod8.summary()"
   ]
  }
 ],
 "metadata": {
  "_change_revision": 0,
  "_is_fork": false,
  "kernelspec": {
   "display_name": "Python 3",
   "language": "python",
   "name": "python3"
  },
  "language_info": {
   "codemirror_mode": {
    "name": "ipython",
    "version": 3
   },
   "file_extension": ".py",
   "mimetype": "text/x-python",
   "name": "python",
   "nbconvert_exporter": "python",
   "pygments_lexer": "ipython3",
   "version": "3.6.5"
  }
 },
 "nbformat": 4,
 "nbformat_minor": 1
}
